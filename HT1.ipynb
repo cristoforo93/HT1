{
 "cells": [
  {
   "attachments": {},
   "cell_type": "markdown",
   "metadata": {},
   "source": [
    "# Hoja de Trabajo 1"
   ]
  },
  {
   "attachments": {},
   "cell_type": "markdown",
   "metadata": {},
   "source": [
    "Los _sistemas de control de versiones_ permiten al usuario manejar y llevar un control de los __cambios__ realizados en algún proyecto."
   ]
  },
  {
   "attachments": {},
   "cell_type": "markdown",
   "metadata": {},
   "source": [
    "Además de esto, estos sitemas de control de versiones permiten crear proyectos en equipo y dentro de las ventajas de esto tenemos:"
   ]
  },
  {
   "attachments": {},
   "cell_type": "markdown",
   "metadata": {},
   "source": [
    "* Ver los cambios realizados por los miembros del proyecto y en qué momento se realizaron.\n",
    "* Revisar versiones anteriores para determinar porqué se realizó cierto cambio al __código__ que se está trabajando.\n",
    "* Crear distintas ramas de trabajo en las cuales se pueden probar y verificar nuevos cambios."
   ]
  },
  {
   "attachments": {},
   "cell_type": "markdown",
   "metadata": {},
   "source": [
    "## Git"
   ]
  },
  {
   "attachments": {},
   "cell_type": "markdown",
   "metadata": {},
   "source": [
    "Existen varios softwares de control de versiones, sin embargo _Git_ se ha vuelto el"
   ]
  }
 ],
 "metadata": {
  "kernelspec": {
   "display_name": "base",
   "language": "python",
   "name": "python3"
  },
  "language_info": {
   "name": "python",
   "version": "3.9.13"
  },
  "orig_nbformat": 4,
  "vscode": {
   "interpreter": {
    "hash": "357dc9d412174e4134ca7f44e5917fce776e4f51137837e377c3ee796a251b35"
   }
  }
 },
 "nbformat": 4,
 "nbformat_minor": 2
}
