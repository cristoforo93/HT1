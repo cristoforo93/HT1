{
 "cells": [
  {
   "attachments": {},
   "cell_type": "markdown",
   "metadata": {},
   "source": [
    "# Hoja de Trabajo 1"
   ]
  },
  {
   "attachments": {},
   "cell_type": "markdown",
   "metadata": {},
   "source": [
    "Los _sistemas de control de versiones_ permiten al usuario manejar y llevar un control de los __cambios__ realizados en algún proyecto."
   ]
  },
  {
   "attachments": {},
   "cell_type": "markdown",
   "metadata": {},
   "source": [
    "Además de esto, estos sitemas de control de versiones permiten crear proyectos en equipo y dentro de las ventajas de esto tenemos:"
   ]
  },
  {
   "attachments": {},
   "cell_type": "markdown",
   "metadata": {},
   "source": [
    "* Ver los cambios realizados por los miembros del proyecto y en qué momento se realizaron.\n",
    "* Revisar versiones anteriores para determinar porqué se realizó cierto cambio al __código__ que se está trabajando.\n",
    "* Crear distintas ramas de trabajo en las cuales se pueden probar y verificar nuevos cambios."
   ]
  },
  {
   "attachments": {},
   "cell_type": "markdown",
   "metadata": {},
   "source": [
    "## Git"
   ]
  },
  {
   "attachments": {},
   "cell_type": "markdown",
   "metadata": {},
   "source": [
    "Existen varios softwares de control de versiones, sin embargo _Git_ se ha vuelto el sistema de control de versiones por exelencia."
   ]
  },
  {
   "attachments": {},
   "cell_type": "markdown",
   "metadata": {},
   "source": [
    "Git utiliza un sistema acíclico para revisar los cambios realizados a algún __árbol__ (carpeta) o __blob__ (archivo). Es decir, git permite verificar todos los cambios realizados de distintas versiones de código con las que se estén trabajando."
   ]
  },
  {
   "attachments": {},
   "cell_type": "markdown",
   "metadata": {},
   "source": [
    "_En general, git realiza manipulaciones a la información de las referencias o la información de los objetos que maneja_."
   ]
  },
  {
   "attachments": {},
   "cell_type": "markdown",
   "metadata": {},
   "source": [
    "### Comandos de Git"
   ]
  },
  {
   "attachments": {},
   "cell_type": "markdown",
   "metadata": {},
   "source": [
    "```\n",
    "git init\n",
    "```\n",
    "Este comando nos permite inicializar un repositorio en git."
   ]
  },
  {
   "attachments": {},
   "cell_type": "markdown",
   "metadata": {},
   "source": [
    "```\n",
    "git help\n",
    "```\n",
    "Este comando nos da información sobre algún comando de git."
   ]
  },
  {
   "attachments": {},
   "cell_type": "markdown",
   "metadata": {},
   "source": [
    "```\n",
    "git status\n",
    "```\n",
    "Este comando brinda información sobre el repositorio."
   ]
  },
  {
   "attachments": {},
   "cell_type": "markdown",
   "metadata": {},
   "source": [
    "```\n",
    "git commit\n",
    "```\n",
    "Este comando permite agregar los cambios realizados al repositorio."
   ]
  },
  {
   "attachments": {},
   "cell_type": "markdown",
   "metadata": {},
   "source": [
    "```\n",
    "git log\n",
    "```\n",
    "Este comando permite ver los cambios que se han ido realizando en los commits."
   ]
  },
  {
   "attachments": {},
   "cell_type": "markdown",
   "metadata": {},
   "source": [
    "```\n",
    "git checkout\n",
    "```\n",
    "Permite regresar a alguna versión anterior que se haya trabajado previamente."
   ]
  },
  {
   "attachments": {},
   "cell_type": "markdown",
   "metadata": {},
   "source": [
    "```\n",
    "git diff\n",
    "```\n",
    "Este comando nos muestra los cambios realizados desde el último commit."
   ]
  },
  {
   "attachments": {},
   "cell_type": "markdown",
   "metadata": {},
   "source": [
    "```\n",
    "git branch\n",
    "```\n",
    "Nos permite acceder a las distintas _ramas_ de trabajo que se están manejando con la finalidad de llevar desarrollo en paralelo."
   ]
  },
  {
   "attachments": {},
   "cell_type": "markdown",
   "metadata": {},
   "source": [
    "```\n",
    "git merge\n",
    "```\n",
    "Este comando permite _combinar_ dos ramas que se hayan desarrollado en paralelo."
   ]
  }
 ],
 "metadata": {
  "kernelspec": {
   "display_name": "base",
   "language": "python",
   "name": "python3"
  },
  "language_info": {
   "name": "python",
   "version": "3.9.13"
  },
  "orig_nbformat": 4,
  "vscode": {
   "interpreter": {
    "hash": "357dc9d412174e4134ca7f44e5917fce776e4f51137837e377c3ee796a251b35"
   }
  }
 },
 "nbformat": 4,
 "nbformat_minor": 2
}
