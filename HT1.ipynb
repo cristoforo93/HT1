{
 "cells": [
  {
   "cell_type": "markdown",
   "metadata": {},
   "source": []
  }
 ],
 "metadata": {
  "kernelspec": {
   "display_name": "base",
   "language": "python",
   "name": "python3"
  },
  "language_info": {
   "name": "python",
   "version": "3.9.13"
  },
  "orig_nbformat": 4,
  "vscode": {
   "interpreter": {
    "hash": "357dc9d412174e4134ca7f44e5917fce776e4f51137837e377c3ee796a251b35"
   }
  }
 },
 "nbformat": 4,
 "nbformat_minor": 2
}
